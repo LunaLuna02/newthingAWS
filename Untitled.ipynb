{
 "cells": [
  {
   "cell_type": "code",
   "execution_count": 1,
   "id": "8cc41344-1da6-4966-a6c6-935bf6b803c0",
   "metadata": {
    "tags": []
   },
   "outputs": [
    {
     "name": "stdout",
     "output_type": "stream",
     "text": [
      "Python has three numeric types: int, float, and complex\n"
     ]
    }
   ],
   "source": [
    "print(\"Python has three numeric types: int, float, and complex\")"
   ]
  },
  {
   "cell_type": "code",
   "execution_count": 2,
   "id": "56d26c5d-59e1-47be-89c8-4f20dd6f4425",
   "metadata": {
    "tags": []
   },
   "outputs": [],
   "source": [
    "myValue=1"
   ]
  },
  {
   "cell_type": "code",
   "execution_count": 3,
   "id": "92d8d3d5-2e80-4447-a0d9-190a9f02ecfa",
   "metadata": {
    "tags": []
   },
   "outputs": [
    {
     "name": "stdout",
     "output_type": "stream",
     "text": [
      "1\n"
     ]
    }
   ],
   "source": [
    "print(myValue)"
   ]
  },
  {
   "cell_type": "code",
   "execution_count": null,
   "id": "668f8a32-8e88-4d70-aacf-95e0083c46dd",
   "metadata": {},
   "outputs": [],
   "source": []
  }
 ],
 "metadata": {
  "kernelspec": {
   "display_name": "Python 3 (ipykernel)",
   "language": "python",
   "name": "python3"
  },
  "language_info": {
   "codemirror_mode": {
    "name": "ipython",
    "version": 3
   },
   "file_extension": ".py",
   "mimetype": "text/x-python",
   "name": "python",
   "nbconvert_exporter": "python",
   "pygments_lexer": "ipython3",
   "version": "3.7.16"
  }
 },
 "nbformat": 4,
 "nbformat_minor": 5
}
